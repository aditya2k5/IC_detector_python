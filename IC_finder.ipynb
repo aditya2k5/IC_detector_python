{
  "nbformat": 4,
  "nbformat_minor": 0,
  "metadata": {
    "colab": {
      "provenance": [],
      "authorship_tag": "ABX9TyNiROVkzNfWSpVwffRs1d+8",
      "include_colab_link": true
    },
    "kernelspec": {
      "name": "python3",
      "display_name": "Python 3"
    },
    "language_info": {
      "name": "python"
    }
  },
  "cells": [
    {
      "cell_type": "markdown",
      "metadata": {
        "id": "view-in-github",
        "colab_type": "text"
      },
      "source": [
        "<a href=\"https://colab.research.google.com/github/aditya2k5/IC_detector_python/blob/main/IC_finder.ipynb\" target=\"_parent\"><img src=\"https://colab.research.google.com/assets/colab-badge.svg\" alt=\"Open In Colab\"/></a>"
      ]
    },
    {
      "cell_type": "code",
      "execution_count": null,
      "metadata": {
        "colab": {
          "base_uri": "https://localhost:8080/"
        },
        "id": "Cy4gwr1cEAxr",
        "outputId": "a9de40ec-7859-4632-b289-ee033791f4fb"
      },
      "outputs": [
        {
          "output_type": "stream",
          "name": "stdout",
          "text": [
            "\n",
            "Available IC codes:\n",
            "['7400', '7402', '7404', '7408', '7432', '555', '4017', '741', '2223']\n",
            "\n",
            "Enter the IC code to find its name: 2223\n",
            "The IC code 2223 corresponds to: samiktha\n",
            "\n"
          ]
        }
      ],
      "source": [
        "\n",
        "\n",
        "def find_ic_name():\n",
        "\n",
        "    ic_dict = {\n",
        "        \"7400\": \"Quad 2-input NAND Gate\",\n",
        "        \"7402\": \"Quad 2-input NOR Gate\",\n",
        "        \"7404\": \"Hex Inverter\",\n",
        "        \"7408\": \"Quad 2-input AND Gate\",\n",
        "        \"7432\": \"Quad 2-input OR Gate\",\n",
        "        \"555\": \"Timer IC\",\n",
        "        \"4017\": \"Decade Counter/Divider IC\",\n",
        "        \"741\": \"Operational Amplifier\",\n",
        "\n",
        "    }\n",
        "\n",
        "    print(\"\\nAvailable IC codes:\")\n",
        "    print(list(ic_dict.keys()))\n",
        "\n",
        "\n",
        "    ic_code = input(\"\\nEnter the IC code to find its name: \").strip()\n",
        "\n",
        "\n",
        "    if ic_code in ic_dict:\n",
        "        print(f\"The IC code {ic_code} corresponds to: {ic_dict[ic_code]}\\n\")\n",
        "    else:\n",
        "        print(f\"IC code {ic_code} not found in the database.\\n\")\n",
        "\n",
        "if __name__ == \"__main__\":\n",
        "    while True:\n",
        "        find_ic_name()\n",
        "        choice = input(\"Do you want to search for another IC? (yes/no): \").strip().lower()\n",
        "        if choice != \"yes\":\n",
        "            print(\"Exiting the program. Goodbye!\")\n",
        "            break\n",
        "\n"
      ]
    },
    {
      "cell_type": "code",
      "source": [],
      "metadata": {
        "id": "UJQvgPxcErGO"
      },
      "execution_count": null,
      "outputs": []
    }
  ]
}